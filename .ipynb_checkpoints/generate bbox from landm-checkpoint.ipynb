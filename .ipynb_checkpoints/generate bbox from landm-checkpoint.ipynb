{
 "cells": [
  {
   "cell_type": "code",
   "execution_count": 1,
   "metadata": {},
   "outputs": [],
   "source": [
    "from glob import glob\n",
    "import os\n",
    "import cv2\n",
    "import csv\n"
   ]
  },
  {
   "cell_type": "markdown",
   "metadata": {},
   "source": [
    "# read files"
   ]
  },
  {
   "cell_type": "code",
   "execution_count": 2,
   "metadata": {},
   "outputs": [],
   "source": [
    "#os.listdir(\"./dataset/20200902_day_shadow_01_Class 1. 정상주행/frame/0_20200902_day_shadow_01\")\n",
    "imgs = glob(\"./dataset/20200902_day_shadow_01_Class 1. 정상주행/frame/0_20200902_day_shadow_01/*.jpg\")\n",
    "csv_file = glob(\"./dataset/20200902_day_shadow_01_Class 1. 정상주행/frame/0_20200902_day_shadow_01/*.csv\")"
   ]
  },
  {
   "cell_type": "code",
   "execution_count": 19,
   "metadata": {},
   "outputs": [],
   "source": [
    "\n",
    "f = open(csv_file[0], 'r', encoding=\"utf-8\")\n",
    "rdr = csv.reader(f)\n",
    "filename = []\n",
    "features = []\n",
    "for line in rdr:\n",
    "    #print(line)\n",
    "    #print(\"len(line): \", len(line))\n",
    "    try:\n",
    "        filename.append(line[0])\n",
    "        features.append(line[1:])\n",
    "    except:\n",
    "        pass\n",
    "f.close()"
   ]
  },
  {
   "cell_type": "code",
   "execution_count": 10,
   "metadata": {},
   "outputs": [],
   "source": [
    "int_features = []\n",
    "\n",
    "\n",
    "for item in features:\n",
    "    temp = []\n",
    "    for i in range(0, len(features[0])-1,2):\n",
    "        #print(i, i+1)\n",
    "\n",
    "        pair = (int(item[i]),  int(item[i+1]))\n",
    "        temp.append(pair)\n",
    "    \n",
    "    int_features.append(temp)\n",
    "#     print(temp)\n",
    "#     print(len(temp))"
   ]
  },
  {
   "cell_type": "markdown",
   "metadata": {},
   "source": [
    "# get positive features"
   ]
  },
  {
   "cell_type": "code",
   "execution_count": 11,
   "metadata": {},
   "outputs": [],
   "source": [
    "features_ps = []"
   ]
  },
  {
   "cell_type": "code",
   "execution_count": 12,
   "metadata": {},
   "outputs": [],
   "source": [
    "for item in int_features:\n",
    "    temp  = []\n",
    "    for tup in item:\n",
    "        if tup[0] == -1:\n",
    "            pass\n",
    "        else:\n",
    "            temp.append(tup)\n",
    "            \n",
    "    features_ps.append(temp)"
   ]
  },
  {
   "cell_type": "code",
   "execution_count": 13,
   "metadata": {},
   "outputs": [],
   "source": [
    "features_x = []\n",
    "features_y = []\n",
    "for item in features_ps:\n",
    "    #item => list of tuples\n",
    "#     print(item)\n",
    "    temp_x = [] \n",
    "    temp_y = []\n",
    "    for tup in item:\n",
    "#         print(\"tup[0]: \", tup[0])\n",
    "#         print(\"tup[1]:\", tup[1])\n",
    "        temp_x.append(tup[0])\n",
    "        temp_y.append(tup[1])\n",
    "    features_x.append(temp_x)\n",
    "    features_y.append(temp_y)\n",
    "\n",
    "# print(features_x)\n",
    "# print(features_y)"
   ]
  },
  {
   "cell_type": "markdown",
   "metadata": {},
   "source": [
    "# get min, max of features"
   ]
  },
  {
   "cell_type": "code",
   "execution_count": 14,
   "metadata": {},
   "outputs": [],
   "source": [
    "features_minmax = []\n",
    "for i in range(0, len(features_ps)):\n",
    "    assert len(features_x[i]) == len(features_y[i])\n",
    "    \n",
    "#     print(\"xmin: \", min(features_x[i]))\n",
    "#     print(\"ymin: \", min(features_y[i]))\n",
    "#     print(\"xmax: \", max(features_x[i]))\n",
    "#     print(\"ymax: \", max(features_y[i]))\n",
    "#     print(\"---\")\n",
    "    # [xmin, ymin, xmax, ymax]\n",
    "    features_minmax.append([min(features_x[i]), min(features_y[i]), max(features_x[i]), max(features_y[i])])"
   ]
  },
  {
   "cell_type": "markdown",
   "metadata": {},
   "source": [
    "# landmark, bbox 그리기"
   ]
  },
  {
   "cell_type": "code",
   "execution_count": 15,
   "metadata": {},
   "outputs": [],
   "source": [
    "import numpy as np\n",
    "temp  = np.array(features_x[0])"
   ]
  },
  {
   "cell_type": "code",
   "execution_count": 16,
   "metadata": {},
   "outputs": [
    {
     "data": {
      "text/plain": [
       "542.6666666666666"
      ]
     },
     "execution_count": 16,
     "metadata": {},
     "output_type": "execute_result"
    }
   ],
   "source": [
    "temp.mean()"
   ]
  },
  {
   "cell_type": "code",
   "execution_count": 17,
   "metadata": {},
   "outputs": [
    {
     "data": {
      "text/plain": [
       "30.014811158641145"
      ]
     },
     "execution_count": 17,
     "metadata": {},
     "output_type": "execute_result"
    }
   ],
   "source": [
    "temp.std()"
   ]
  },
  {
   "cell_type": "code",
   "execution_count": 18,
   "metadata": {},
   "outputs": [],
   "source": [
    "for item in imgs:\n",
    "    img = cv2.imread(item, cv2.IMREAD_COLOR)\n",
    "    img = cv2.cvtColor(img, cv2.COLOR_BGR2RGB)\n",
    "    h, w , c = img.shape\n",
    "    index = filename.index(os.path.basename(item))\n",
    "    \n",
    "    x_mean = int(np.array(features_x[index]).mean())\n",
    "    y_mean = int(np.array(features_y[index]).mean())\n",
    "    x_std = int(np.array(features_x[index]).std())\n",
    "    y_std = int(np.array(features_y[index]).std())\n",
    "    \n",
    "    xmin, ymin, xmax, ymax = features_minmax[index]\n",
    "    \n",
    "    xmin = xmin - x_std\n",
    "    ymin = ymin - y_std\n",
    "    xmax = xmax + x_std\n",
    "    ymax = ymax + y_std\n",
    "\n",
    "    if xmin <= 0:\n",
    "        xmin = 0\n",
    "    if ymin <= 0:\n",
    "        ymin = 0        \n",
    "    if xmax >= w:\n",
    "        xmax = w\n",
    "    if ymax > h:\n",
    "        ymax = h\n",
    "        \n",
    "    # draw landmark\n",
    "    for tup in int_features[index]:\n",
    "        if tup[0] == -1:\n",
    "            pass\n",
    "        cv2.circle(img, tup, 4, (0,0,255), -1)\n",
    "    \n",
    "    # draw bbox\n",
    "    cv2.rectangle(img, (xmin, ymin), (xmax, ymax), (0,255,0), 3 )\n",
    "    save_path = \"./dataset/20200902_day_shadow_01_Class 1. 정상주행/frame/0_20200902_day_shadow_01/output/\"+ os.path.basename(item) +\".jpg\"\n",
    "    cv2.imwrite(save_path, img)"
   ]
  }
 ],
 "metadata": {
  "kernelspec": {
   "display_name": "tf2",
   "language": "python",
   "name": "tf2"
  },
  "language_info": {
   "codemirror_mode": {
    "name": "ipython",
    "version": 3
   },
   "file_extension": ".py",
   "mimetype": "text/x-python",
   "name": "python",
   "nbconvert_exporter": "python",
   "pygments_lexer": "ipython3",
   "version": "3.7.7"
  }
 },
 "nbformat": 4,
 "nbformat_minor": 4
}
