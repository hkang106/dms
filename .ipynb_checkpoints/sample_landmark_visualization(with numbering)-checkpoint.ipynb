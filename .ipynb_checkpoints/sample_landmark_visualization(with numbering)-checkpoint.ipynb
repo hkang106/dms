{
 "cells": [
  {
   "cell_type": "code",
   "execution_count": 1,
   "metadata": {},
   "outputs": [],
   "source": [
    "import cv2\n",
    "from matplotlib import pyplot as plt\n",
    "import os\n",
    "from glob import glob\n",
    "import pandas as pd"
   ]
  },
  {
   "cell_type": "code",
   "execution_count": 2,
   "metadata": {},
   "outputs": [],
   "source": [
    "csvs = glob(\"dataset/sample/*.csv\")"
   ]
  },
  {
   "cell_type": "code",
   "execution_count": 3,
   "metadata": {},
   "outputs": [],
   "source": [
    "jpgs = glob(\"dataset/sample/*.jpg\")"
   ]
  },
  {
   "cell_type": "code",
   "execution_count": 4,
   "metadata": {},
   "outputs": [
    {
     "data": {
      "text/plain": [
       "['dataset/sample/1_20200824_day_sun_02 0371.jpg',\n",
       " 'dataset/sample/1_20200824_day_sun_02 0662.jpg',\n",
       " 'dataset/sample/1_20200824_day_sun_02 0365.jpg',\n",
       " 'dataset/sample/1_20200824_day_sun_02 0064.jpg',\n",
       " 'dataset/sample/1_20200824_day_sun_02 0980.jpg',\n",
       " 'dataset/sample/1_20200824_day_sun_02 0067.jpg',\n",
       " 'dataset/sample/1_20200824_day_sun_02 0373.jpg',\n",
       " 'dataset/sample/1_20200824_day_sun_02 0666.jpg']"
      ]
     },
     "execution_count": 4,
     "metadata": {},
     "output_type": "execute_result"
    }
   ],
   "source": [
    "jpgs"
   ]
  },
  {
   "cell_type": "code",
   "execution_count": 5,
   "metadata": {},
   "outputs": [
    {
     "data": {
      "text/plain": [
       "'1_20200824_day_sun_02 0371'"
      ]
     },
     "execution_count": 5,
     "metadata": {},
     "output_type": "execute_result"
    }
   ],
   "source": [
    "os.path.basename(jpgs[0]).replace(\".jpg\", \"\")"
   ]
  },
  {
   "cell_type": "code",
   "execution_count": 6,
   "metadata": {
    "scrolled": true
   },
   "outputs": [
    {
     "data": {
      "text/plain": [
       "['dataset/sample/1_20200824_day_sun_02 0371.jpg.csv',\n",
       " 'dataset/sample/1_20200824_day_sun_02 0662.jpg.csv',\n",
       " 'dataset/sample/1_20200824_day_sun_02 0064.jpg.csv',\n",
       " 'dataset/sample/1_20200824_day_sun_02 0067.jpg.csv',\n",
       " 'dataset/sample/1_20200824_day_sun_02 0980.jpg.csv',\n",
       " 'dataset/sample/1_20200824_day_sun_02 0365.jpg.csv',\n",
       " 'dataset/sample/1_20200824_day_sun_02 0373.jpg.csv',\n",
       " 'dataset/sample/1_20200824_day_sun_02 0666.jpg.csv']"
      ]
     },
     "execution_count": 6,
     "metadata": {},
     "output_type": "execute_result"
    }
   ],
   "source": [
    "csvs"
   ]
  },
  {
   "cell_type": "code",
   "execution_count": 7,
   "metadata": {},
   "outputs": [],
   "source": [
    "jpg_to_csv = [os.path.basename(csv).replace(\".csv\", \"\") for csv in csvs]\n",
    "    "
   ]
  },
  {
   "cell_type": "code",
   "execution_count": 8,
   "metadata": {},
   "outputs": [
    {
     "data": {
      "text/plain": [
       "['1_20200824_day_sun_02 0371.jpg',\n",
       " '1_20200824_day_sun_02 0662.jpg',\n",
       " '1_20200824_day_sun_02 0064.jpg',\n",
       " '1_20200824_day_sun_02 0067.jpg',\n",
       " '1_20200824_day_sun_02 0980.jpg',\n",
       " '1_20200824_day_sun_02 0365.jpg',\n",
       " '1_20200824_day_sun_02 0373.jpg',\n",
       " '1_20200824_day_sun_02 0666.jpg']"
      ]
     },
     "execution_count": 8,
     "metadata": {},
     "output_type": "execute_result"
    }
   ],
   "source": [
    "jpg_to_csv"
   ]
  },
  {
   "cell_type": "code",
   "execution_count": 9,
   "metadata": {},
   "outputs": [
    {
     "data": {
      "text/plain": [
       "['dataset/sample/1_20200824_day_sun_02 0371.jpg',\n",
       " 'dataset/sample/1_20200824_day_sun_02 0662.jpg',\n",
       " 'dataset/sample/1_20200824_day_sun_02 0365.jpg',\n",
       " 'dataset/sample/1_20200824_day_sun_02 0064.jpg',\n",
       " 'dataset/sample/1_20200824_day_sun_02 0980.jpg',\n",
       " 'dataset/sample/1_20200824_day_sun_02 0067.jpg',\n",
       " 'dataset/sample/1_20200824_day_sun_02 0373.jpg',\n",
       " 'dataset/sample/1_20200824_day_sun_02 0666.jpg']"
      ]
     },
     "execution_count": 9,
     "metadata": {},
     "output_type": "execute_result"
    }
   ],
   "source": [
    "jpgs"
   ]
  },
  {
   "cell_type": "code",
   "execution_count": 10,
   "metadata": {},
   "outputs": [],
   "source": [
    "\n",
    "color = (0, 255, 0)\n",
    "font = cv2.FONT_HERSHEY_SCRIPT_SIMPLEX  # hand-writing style font\n",
    "fontScale = 0.5\n",
    "thickness = 2\n",
    "\n",
    "for i, jpg in enumerate(jpgs):\n",
    "    temp = pd.read_csv(csvs[jpg_to_csv.index(os.path.basename(jpg))])\n",
    "    filename = temp.columns.tolist()[0]\n",
    "    landm = temp.columns.tolist()[1:-1]\n",
    "    landm_tups = [(int(float(landm[idx])), int(float(landm[idx+1]))) for idx in range(0, len(landm), 2)]\n",
    "    \n",
    "    img1 = cv2.imread(jpg, cv2.IMREAD_COLOR)\n",
    "    img1 = cv2.cvtColor(img1, cv2.COLOR_BGR2RGB)\n",
    "    \n",
    "    for tup in landm_tups:\n",
    "        cv2.circle(img1, tup, 4, (0,0,255), -1)\n",
    "        \n",
    "    for idx, landm in enumerate(landm_tups):\n",
    "        #print(landm)\n",
    "        location = (landm[0]+10, landm[1]+10  )\n",
    "        cv2.putText(img1, str(idx+1), location, font, fontScale, color, thickness)\n",
    "        #print(idx)\n",
    "    \n",
    "    \n",
    "    #plt.figure(figsize=(25,15))\n",
    "    #plt.imshow(img1)\n",
    "    #plt.show()\n",
    "    \n",
    "    save_path = \"./dataset/sample/output/\"+str(i)+\"_\"+os.path.basename(jpg)\n",
    "    cv2.imwrite(save_path, img1)"
   ]
  },
  {
   "cell_type": "code",
   "execution_count": null,
   "metadata": {},
   "outputs": [],
   "source": []
  },
  {
   "cell_type": "code",
   "execution_count": null,
   "metadata": {},
   "outputs": [],
   "source": []
  }
 ],
 "metadata": {
  "kernelspec": {
   "display_name": "tf2",
   "language": "python",
   "name": "tf2"
  },
  "language_info": {
   "codemirror_mode": {
    "name": "ipython",
    "version": 3
   },
   "file_extension": ".py",
   "mimetype": "text/x-python",
   "name": "python",
   "nbconvert_exporter": "python",
   "pygments_lexer": "ipython3",
   "version": "3.7.7"
  }
 },
 "nbformat": 4,
 "nbformat_minor": 4
}
