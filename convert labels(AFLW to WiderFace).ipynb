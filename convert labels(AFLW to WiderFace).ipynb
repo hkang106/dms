{
 "cells": [
  {
   "cell_type": "code",
   "execution_count": 1,
   "metadata": {},
   "outputs": [],
   "source": [
    "import os\n",
    "from glob import glob\n",
    "import numpy as np\n",
    "from matplotlib import pyplot as plt"
   ]
  },
  {
   "cell_type": "code",
   "execution_count": 2,
   "metadata": {},
   "outputs": [],
   "source": [
    "LABEL_WIDERFACE_PATH = \"dataset/label-widerface.txt\"\n",
    "LABEL_AFLW_PATH = \"dataset/label-aflw.txt\"\n",
    "WRITE_PATH = \"dataset/label_result.txt\""
   ]
  },
  {
   "cell_type": "code",
   "execution_count": 3,
   "metadata": {},
   "outputs": [],
   "source": [
    "f = open(LABEL_AFLW_PATH, 'r')\n",
    "lines = f.readlines()"
   ]
  },
  {
   "cell_type": "code",
   "execution_count": 4,
   "metadata": {},
   "outputs": [
    {
     "data": {
      "text/plain": [
       "4000"
      ]
     },
     "execution_count": 4,
     "metadata": {},
     "output_type": "execute_result"
    }
   ],
   "source": [
    "len(lines)"
   ]
  },
  {
   "cell_type": "code",
   "execution_count": 5,
   "metadata": {},
   "outputs": [],
   "source": [
    "result = []\n",
    "cnt = 0"
   ]
  },
  {
   "cell_type": "code",
   "execution_count": 6,
   "metadata": {},
   "outputs": [],
   "source": [
    "for line in lines:\n",
    "    if \".jpg\" in line:\n",
    "        if line[-1:] != '\\n':\n",
    "            line+='\\n'\n",
    "        result.append(line)\n",
    "        \n",
    "    else:\n",
    "        splited = line.split(\",\")\n",
    "        splited = [ item.strip() for item in splited]\n",
    "        \n",
    "        for idx in range(6, 210, 3):\n",
    "            splited.insert(idx, \"0\")\n",
    "            \n",
    "        temp = \" \".join(splited)\n",
    "        result.append(temp+\"\\n\")\n",
    "    cnt += 1"
   ]
  },
  {
   "cell_type": "code",
   "execution_count": 7,
   "metadata": {},
   "outputs": [],
   "source": [
    "f.close()"
   ]
  },
  {
   "cell_type": "code",
   "execution_count": 8,
   "metadata": {
    "scrolled": true
   },
   "outputs": [
    {
     "name": "stdout",
     "output_type": "stream",
     "text": [
      "4000\n"
     ]
    }
   ],
   "source": [
    "print(len(result))"
   ]
  },
  {
   "cell_type": "code",
   "execution_count": 9,
   "metadata": {},
   "outputs": [],
   "source": [
    "cnt = 0\n",
    "for item in result:\n",
    "    if item[-1:] == '\\n':\n",
    "        cnt += 1"
   ]
  },
  {
   "cell_type": "code",
   "execution_count": 10,
   "metadata": {},
   "outputs": [
    {
     "data": {
      "text/plain": [
       "4000"
      ]
     },
     "execution_count": 10,
     "metadata": {},
     "output_type": "execute_result"
    }
   ],
   "source": [
    "cnt"
   ]
  },
  {
   "cell_type": "code",
   "execution_count": null,
   "metadata": {},
   "outputs": [],
   "source": []
  },
  {
   "cell_type": "code",
   "execution_count": null,
   "metadata": {},
   "outputs": [],
   "source": []
  },
  {
   "cell_type": "code",
   "execution_count": null,
   "metadata": {},
   "outputs": [],
   "source": []
  },
  {
   "cell_type": "code",
   "execution_count": 11,
   "metadata": {},
   "outputs": [],
   "source": [
    "wf = open(WRITE_PATH, \"w\")"
   ]
  },
  {
   "cell_type": "code",
   "execution_count": 12,
   "metadata": {},
   "outputs": [],
   "source": [
    "for line in result:\n",
    "    wf.write(line)"
   ]
  },
  {
   "cell_type": "code",
   "execution_count": 13,
   "metadata": {},
   "outputs": [],
   "source": [
    "#wf.close()"
   ]
  },
  {
   "cell_type": "code",
   "execution_count": 14,
   "metadata": {},
   "outputs": [],
   "source": [
    "a = '87 0 367 280 150.51208 240.1326 0 148.04959 264.74084 0 148.43025 286.73236 0 151.75519 310.48 0 158.74953 335.74585 0 169.83795 356.1514 0 182.72958 367.5025 0 201.35199 374.84003 0 228.91313 380.5536 0 259.6462 376.11966 0 285.31308 370.15527 0 306.39963 360.09454 0 324.87833 341.82153 0 336.7893 318.7218 0 341.49945 294.55026 0 344.4749 270.34705 0 344.73032 243.38327 0 157.01967 201.31717 0 164.55653 192.81769 0 176.14595 189.60333 0 188.09172 190.6644 0 199.6502 192.40436 0 251.76723 198.05768 0 264.2786 192.26273 0 279.2718 190.13556 0 295.68063 192.53745 0 309.25482 201.11115 0 228.24255 220.39505 0 226.34865 237.61075 0 224.35898 253.84007 0 223.6394 267.6989 0 209.85385 283.56357 0 216.55675 283.95682 0 225.86488 284.57935 0 235.5069 283.54816 0 242.74359 282.97134 0 171.9569 221.0438 0 178.18613 212.88019 0 190.03003 212.13593 0 201.24617 221.06575 0 190.82541 224.56332 0 178.97311 225.12775 0 258.77667 222.70552 0 269.4917 212.2488 0 281.19168 213.01152 0 292.39087 222.74263 0 282.01752 226.33159 0 268.88797 225.36494 0 196.14154 322.6045 0 205.51573 311.38617 0 216.24251 302.5265 0 223.59845 303.98718 0 231.07935 302.7838 0 242.89305 311.5165 0 253.40518 323.07983 0 244.77354 329.44604 0 236.24922 335.63715 0 224.95912 336.6379 0 213.72636 334.70508 0 205.58307 328.2939 0 199.97511 321.42804 0 215.47406 314.92816 0 223.69583 313.27664 0 232.63269 315.1365 0 250.7171 321.91403 0 234.61322 323.21344 0 225.01602 323.60098 0 215.67632 322.16568 0 0.8'"
   ]
  },
  {
   "cell_type": "code",
   "execution_count": 15,
   "metadata": {},
   "outputs": [],
   "source": [
    "temp = a.split(\" \")"
   ]
  },
  {
   "cell_type": "code",
   "execution_count": 16,
   "metadata": {},
   "outputs": [
    {
     "data": {
      "text/plain": [
       "209"
      ]
     },
     "execution_count": 16,
     "metadata": {},
     "output_type": "execute_result"
    }
   ],
   "source": [
    "len(temp)"
   ]
  },
  {
   "cell_type": "code",
   "execution_count": 17,
   "metadata": {},
   "outputs": [
    {
     "data": {
      "text/plain": [
       "'0.8'"
      ]
     },
     "execution_count": 17,
     "metadata": {},
     "output_type": "execute_result"
    }
   ],
   "source": [
    "temp[208]"
   ]
  },
  {
   "cell_type": "code",
   "execution_count": 18,
   "metadata": {},
   "outputs": [
    {
     "data": {
      "text/plain": [
       "'0'"
      ]
     },
     "execution_count": 18,
     "metadata": {},
     "output_type": "execute_result"
    }
   ],
   "source": [
    "temp[207]"
   ]
  },
  {
   "cell_type": "code",
   "execution_count": 19,
   "metadata": {},
   "outputs": [
    {
     "data": {
      "text/plain": [
       "'322.16568'"
      ]
     },
     "execution_count": 19,
     "metadata": {},
     "output_type": "execute_result"
    }
   ],
   "source": [
    "temp[206]"
   ]
  },
  {
   "cell_type": "code",
   "execution_count": 20,
   "metadata": {},
   "outputs": [
    {
     "data": {
      "text/plain": [
       "'215.67632'"
      ]
     },
     "execution_count": 20,
     "metadata": {},
     "output_type": "execute_result"
    }
   ],
   "source": [
    "temp[205]"
   ]
  },
  {
   "cell_type": "code",
   "execution_count": 21,
   "metadata": {},
   "outputs": [
    {
     "data": {
      "text/plain": [
       "'0'"
      ]
     },
     "execution_count": 21,
     "metadata": {},
     "output_type": "execute_result"
    }
   ],
   "source": [
    "temp[204]"
   ]
  },
  {
   "cell_type": "code",
   "execution_count": 22,
   "metadata": {},
   "outputs": [
    {
     "name": "stdout",
     "output_type": "stream",
     "text": [
      "idx:  4\n",
      "i:  4\n",
      "idx:  7\n",
      "i:  6\n",
      "idx:  10\n",
      "i:  8\n",
      "idx:  13\n",
      "i:  10\n",
      "idx:  16\n",
      "i:  12\n",
      "idx:  19\n",
      "i:  14\n",
      "idx:  22\n",
      "i:  16\n",
      "idx:  25\n",
      "i:  18\n",
      "idx:  28\n",
      "i:  20\n",
      "idx:  31\n",
      "i:  22\n",
      "idx:  34\n",
      "i:  24\n",
      "idx:  37\n",
      "i:  26\n",
      "idx:  40\n",
      "i:  28\n",
      "idx:  43\n",
      "i:  30\n",
      "idx:  46\n",
      "i:  32\n",
      "idx:  49\n",
      "i:  34\n",
      "idx:  52\n",
      "i:  36\n",
      "idx:  55\n",
      "i:  38\n",
      "idx:  58\n",
      "i:  40\n",
      "idx:  61\n",
      "i:  42\n",
      "idx:  64\n",
      "i:  44\n",
      "idx:  67\n",
      "i:  46\n",
      "idx:  70\n",
      "i:  48\n",
      "idx:  73\n",
      "i:  50\n",
      "idx:  76\n",
      "i:  52\n",
      "idx:  79\n",
      "i:  54\n",
      "idx:  82\n",
      "i:  56\n",
      "idx:  85\n",
      "i:  58\n",
      "idx:  88\n",
      "i:  60\n",
      "idx:  91\n",
      "i:  62\n",
      "idx:  94\n",
      "i:  64\n",
      "idx:  97\n",
      "i:  66\n",
      "idx:  100\n",
      "i:  68\n",
      "idx:  103\n",
      "i:  70\n",
      "idx:  106\n",
      "i:  72\n",
      "idx:  109\n",
      "i:  74\n",
      "idx:  112\n",
      "i:  76\n",
      "idx:  115\n",
      "i:  78\n",
      "idx:  118\n",
      "i:  80\n",
      "idx:  121\n",
      "i:  82\n",
      "idx:  124\n",
      "i:  84\n",
      "idx:  127\n",
      "i:  86\n",
      "idx:  130\n",
      "i:  88\n",
      "idx:  133\n",
      "i:  90\n",
      "idx:  136\n",
      "i:  92\n",
      "idx:  139\n",
      "i:  94\n",
      "idx:  142\n",
      "i:  96\n",
      "idx:  145\n",
      "i:  98\n",
      "idx:  148\n",
      "i:  100\n",
      "idx:  151\n",
      "i:  102\n",
      "idx:  154\n",
      "i:  104\n",
      "idx:  157\n",
      "i:  106\n",
      "idx:  160\n",
      "i:  108\n",
      "idx:  163\n",
      "i:  110\n",
      "idx:  166\n",
      "i:  112\n",
      "idx:  169\n",
      "i:  114\n",
      "idx:  172\n",
      "i:  116\n",
      "idx:  175\n",
      "i:  118\n",
      "idx:  178\n",
      "i:  120\n",
      "idx:  181\n",
      "i:  122\n",
      "idx:  184\n",
      "i:  124\n",
      "idx:  187\n",
      "i:  126\n",
      "idx:  190\n",
      "i:  128\n",
      "idx:  193\n",
      "i:  130\n",
      "idx:  196\n",
      "i:  132\n",
      "idx:  199\n",
      "i:  134\n",
      "idx:  202\n",
      "i:  136\n",
      "idx:  205\n",
      "i:  138\n"
     ]
    }
   ],
   "source": [
    "aa = []\n",
    "i = 4\n",
    "for idx in range(4, 206, 3):\n",
    "    print(\"idx: \", idx)\n",
    "    print(\"i: \", i)\n",
    "    i+=2\n",
    "    aa.append(idx)"
   ]
  },
  {
   "cell_type": "code",
   "execution_count": 23,
   "metadata": {},
   "outputs": [
    {
     "data": {
      "text/plain": [
       "68"
      ]
     },
     "execution_count": 23,
     "metadata": {},
     "output_type": "execute_result"
    }
   ],
   "source": [
    "len(aa)"
   ]
  },
  {
   "cell_type": "code",
   "execution_count": null,
   "metadata": {},
   "outputs": [],
   "source": []
  }
 ],
 "metadata": {
  "kernelspec": {
   "display_name": "tf2",
   "language": "python",
   "name": "tf2"
  },
  "language_info": {
   "codemirror_mode": {
    "name": "ipython",
    "version": 3
   },
   "file_extension": ".py",
   "mimetype": "text/x-python",
   "name": "python",
   "nbconvert_exporter": "python",
   "pygments_lexer": "ipython3",
   "version": "3.7.7"
  }
 },
 "nbformat": 4,
 "nbformat_minor": 4
}
