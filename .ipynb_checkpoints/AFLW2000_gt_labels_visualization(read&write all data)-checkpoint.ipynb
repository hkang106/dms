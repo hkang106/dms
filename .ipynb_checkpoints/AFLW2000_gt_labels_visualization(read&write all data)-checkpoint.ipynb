{
 "cells": [
  {
   "cell_type": "code",
   "execution_count": 1,
   "metadata": {},
   "outputs": [],
   "source": [
    "import cv2\n",
    "from matplotlib import pyplot as plt\n",
    "import os\n",
    "from glob import glob"
   ]
  },
  {
   "cell_type": "code",
   "execution_count": 2,
   "metadata": {},
   "outputs": [],
   "source": [
    "with open(\"dataset/AFLW2000/label.txt\", \"r\") as f:\n",
    "    lines = f.readlines()"
   ]
  },
  {
   "cell_type": "code",
   "execution_count": 3,
   "metadata": {},
   "outputs": [],
   "source": [
    "filenames = [line.split(\"/\")[-1][:-1] for line in lines if line[0]==\"#\"]"
   ]
  },
  {
   "cell_type": "code",
   "execution_count": 4,
   "metadata": {},
   "outputs": [],
   "source": [
    "features_temp = [line[:-1].split(\",\") for line in lines if line[0] != \"#\"]"
   ]
  },
  {
   "cell_type": "code",
   "execution_count": 5,
   "metadata": {},
   "outputs": [],
   "source": [
    "features = []\n",
    "for feature in features_temp:\n",
    "    temp  = []\n",
    "    for el in feature:\n",
    "        el = float(el.strip())\n",
    "        temp.append(el)\n",
    "    features.append(temp)"
   ]
  },
  {
   "cell_type": "code",
   "execution_count": 6,
   "metadata": {},
   "outputs": [],
   "source": [
    "assert len(filenames) == len(features)"
   ]
  },
  {
   "cell_type": "code",
   "execution_count": 7,
   "metadata": {},
   "outputs": [
    {
     "data": {
      "text/plain": [
       "'dataset/AFLW2000/image03004.jpg'"
      ]
     },
     "execution_count": 7,
     "metadata": {},
     "output_type": "execute_result"
    }
   ],
   "source": [
    "os.path.join(\"dataset\", \"AFLW2000\", filenames[0])"
   ]
  },
  {
   "cell_type": "code",
   "execution_count": 8,
   "metadata": {},
   "outputs": [],
   "source": [
    "for idx, filename in enumerate(filenames):\n",
    "    img = cv2.imread(os.path.join(\"dataset\", \"AFLW2000\", filename), cv2.IMREAD_COLOR)\n",
    "    img = cv2.cvtColor(img, cv2.COLOR_BGR2RGB)\n",
    "    lm_centers = [ ( int(features[idx][i]), int(features[idx][i+1]) ) for i in range(4, 139, 2) ]\n",
    "    \n",
    "    for center in lm_centers:\n",
    "        cv2.circle(img, center, 2, (0,0,255), -1)\n",
    "    \n",
    "    cv2.imwrite(os.path.join(\"AFLW2000_GT\", filename), img)"
   ]
  }
 ],
 "metadata": {
  "kernelspec": {
   "display_name": "tf2",
   "language": "python",
   "name": "tf2"
  },
  "language_info": {
   "codemirror_mode": {
    "name": "ipython",
    "version": 3
   },
   "file_extension": ".py",
   "mimetype": "text/x-python",
   "name": "python",
   "nbconvert_exporter": "python",
   "pygments_lexer": "ipython3",
   "version": "3.7.7"
  }
 },
 "nbformat": 4,
 "nbformat_minor": 4
}
