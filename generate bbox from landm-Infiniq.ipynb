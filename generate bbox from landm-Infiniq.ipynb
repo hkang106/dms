{
 "cells": [
  {
   "cell_type": "code",
   "execution_count": 1,
   "metadata": {},
   "outputs": [],
   "source": [
    "from glob import glob\n",
    "import os\n",
    "import cv2\n",
    "import csv\n",
    "import numpy as np"
   ]
  },
  {
   "cell_type": "markdown",
   "metadata": {},
   "source": [
    "# read files"
   ]
  },
  {
   "cell_type": "code",
   "execution_count": 2,
   "metadata": {},
   "outputs": [],
   "source": [
    "csv_file = \"dataset/valid.csv\"\n",
    "#csv_file = \"dataset/valid.csv\""
   ]
  },
  {
   "cell_type": "code",
   "execution_count": 3,
   "metadata": {},
   "outputs": [],
   "source": [
    "f = open(csv_file, 'r', encoding=\"utf-8\")\n",
    "rdr = csv.reader(f)\n",
    "filename = []\n",
    "features = []\n",
    "for line in rdr:\n",
    "    #print(line)\n",
    "    #print(\"len(line): \", len(line))\n",
    "    try:\n",
    "        filename.append(line[0])\n",
    "        features.append(line[1:])\n",
    "    except:\n",
    "        pass\n",
    "f.close()"
   ]
  },
  {
   "cell_type": "code",
   "execution_count": 4,
   "metadata": {
    "scrolled": true
   },
   "outputs": [
    {
     "data": {
      "text/plain": [
       "10600"
      ]
     },
     "execution_count": 4,
     "metadata": {},
     "output_type": "execute_result"
    }
   ],
   "source": [
    "len(filename)"
   ]
  },
  {
   "cell_type": "code",
   "execution_count": 5,
   "metadata": {},
   "outputs": [
    {
     "data": {
      "text/plain": [
       "10600"
      ]
     },
     "execution_count": 5,
     "metadata": {},
     "output_type": "execute_result"
    }
   ],
   "source": [
    "len(features)"
   ]
  },
  {
   "cell_type": "markdown",
   "metadata": {},
   "source": [
    "# get positive features"
   ]
  },
  {
   "cell_type": "code",
   "execution_count": 6,
   "metadata": {},
   "outputs": [],
   "source": [
    "features_ps = []"
   ]
  },
  {
   "cell_type": "code",
   "execution_count": 7,
   "metadata": {},
   "outputs": [],
   "source": [
    "features = features[1:]"
   ]
  },
  {
   "cell_type": "code",
   "execution_count": 8,
   "metadata": {},
   "outputs": [],
   "source": [
    "for row in features:\n",
    "    #print(len(row))\n",
    "    tup_list = []\n",
    "    for i in range(0,len(row)-1,2):\n",
    "        #print(i)\n",
    "        \n",
    "        tup = ( float(row[i]), float(row[i+1]) )\n",
    "        if tup[0] != -1:\n",
    "            tup_list.append(tup)\n",
    "        \n",
    "    features_ps.append(tup_list)"
   ]
  },
  {
   "cell_type": "code",
   "execution_count": 9,
   "metadata": {},
   "outputs": [],
   "source": [
    "features_x = []\n",
    "features_y = []\n",
    "for item in features_ps:\n",
    "    #item => list of tuples\n",
    "#     print(item)\n",
    "    temp_x = [] \n",
    "    temp_y = []\n",
    "    for tup in item:\n",
    "#         print(\"tup[0]: \", tup[0])\n",
    "#         print(\"tup[1]:\", tup[1])\n",
    "        temp_x.append(tup[0])\n",
    "        temp_y.append(tup[1])\n",
    "    features_x.append(temp_x)\n",
    "    features_y.append(temp_y)\n",
    "\n",
    "# print(features_x)\n",
    "# print(features_y)"
   ]
  },
  {
   "cell_type": "code",
   "execution_count": 10,
   "metadata": {},
   "outputs": [
    {
     "name": "stdout",
     "output_type": "stream",
     "text": [
      "[404.0, 467.0, 494.0, 428.0, 428.0, 516.0, 517.0, 426.0, 458.0, 497.0, 442.0, 442.0, 513.0, 513.0, 472.0, 513.0, 504.0, 469.0, 506.0, 506.0, 506.0, 507.0]\n",
      "404.0\n",
      "517.0\n"
     ]
    }
   ],
   "source": [
    "print(features_x[0])\n",
    "print(min(features_x[0]))\n",
    "print(max(features_x[0]))"
   ]
  },
  {
   "cell_type": "markdown",
   "metadata": {},
   "source": [
    "# get min, max of features"
   ]
  },
  {
   "cell_type": "code",
   "execution_count": 11,
   "metadata": {},
   "outputs": [],
   "source": [
    "features_minmax = []\n",
    "for i in range(0, len(features_ps)):\n",
    "    assert len(features_x[i]) == len(features_y[i])\n",
    "    \n",
    "#     print(\"len(features_x[i]):\", len(features_x[i]))\n",
    "#     print(\"len(features_y[i]):\", len(features_y[i]))\n",
    "    \n",
    "#     if len(features_x[i]) != 0:\n",
    "#         print(\"i: \", i)\n",
    "#         print(\"xmin: \", min(features_x[i]))\n",
    "#         print(\"ymin: \", min(features_y[i]))\n",
    "#         print(\"xmax: \", max(features_x[i]))\n",
    "#         print(\"ymax: \", max(features_y[i]))\n",
    "#         print(\"---\")\n",
    "#         # [xmin, ymin, xmax, ymax]\n",
    "    \n",
    "    if len(features_x[i]) == 0 or len(features_y[i]) ==0:\n",
    "        features_minmax.append([0, 0, 0, 0])\n",
    "    else:\n",
    "        features_minmax.append([min(features_x[i]), min(features_y[i]), max(features_x[i]), max(features_y[i])])"
   ]
  },
  {
   "cell_type": "code",
   "execution_count": 12,
   "metadata": {},
   "outputs": [
    {
     "name": "stdout",
     "output_type": "stream",
     "text": [
      "10599\n"
     ]
    }
   ],
   "source": [
    "print(len(features_minmax))"
   ]
  },
  {
   "cell_type": "code",
   "execution_count": 13,
   "metadata": {},
   "outputs": [],
   "source": [
    "for item in features_minmax:\n",
    "    xmin, ymin, xmax, ymax = item\n",
    "    assert xmin <= xmax\n",
    "    assert ymin <= ymax"
   ]
  },
  {
   "cell_type": "markdown",
   "metadata": {},
   "source": [
    "# landmark, bbox 그리기"
   ]
  },
  {
   "cell_type": "code",
   "execution_count": 14,
   "metadata": {},
   "outputs": [
    {
     "data": {
      "text/plain": [
       "10599"
      ]
     },
     "execution_count": 14,
     "metadata": {},
     "output_type": "execute_result"
    }
   ],
   "source": [
    "len(features_x)"
   ]
  },
  {
   "cell_type": "code",
   "execution_count": 15,
   "metadata": {},
   "outputs": [
    {
     "data": {
      "text/plain": [
       "10599"
      ]
     },
     "execution_count": 15,
     "metadata": {},
     "output_type": "execute_result"
    }
   ],
   "source": [
    "len(features_ps)"
   ]
  },
  {
   "cell_type": "code",
   "execution_count": 16,
   "metadata": {},
   "outputs": [
    {
     "data": {
      "text/plain": [
       "10599"
      ]
     },
     "execution_count": 16,
     "metadata": {},
     "output_type": "execute_result"
    }
   ],
   "source": [
    "len(features_y)"
   ]
  },
  {
   "cell_type": "code",
   "execution_count": 17,
   "metadata": {},
   "outputs": [],
   "source": [
    "img = cv2.imread(\"dataset/infiniq_sample.jpg\")\n",
    "\n",
    "h, w, c = img.shape"
   ]
  },
  {
   "cell_type": "code",
   "execution_count": 18,
   "metadata": {},
   "outputs": [
    {
     "name": "stdout",
     "output_type": "stream",
     "text": [
      "480 853 3\n"
     ]
    }
   ],
   "source": [
    "print(h, w, c)"
   ]
  },
  {
   "cell_type": "code",
   "execution_count": 19,
   "metadata": {},
   "outputs": [],
   "source": [
    "bbox = []\n",
    "for index in range(len(features_ps)):\n",
    "#     img = cv2.imread(item, cv2.IMREAD_COLOR)\n",
    "#     img = cv2.cvtColor(img, cv2.COLOR_BGR2RGB)\n",
    "#     h, w , c = img.shape\n",
    "#     index = filename.index(os.path.basename(item))\n",
    "    \n",
    "    #print(\"index: \", index)\n",
    "    xmin, ymin, xmax, ymax = features_minmax[index]\n",
    "    \n",
    "    \n",
    "    if xmin==0 and ymin==0 and xmax==0 and ymax == 0:\n",
    "        bbox.append([0,0,0,0])\n",
    "    else:\n",
    "        \n",
    "        x_mean = int(np.array(features_x[index]).mean())\n",
    "        y_mean = int(np.array(features_y[index]).mean())\n",
    "        x_std = int(np.array(features_x[index]).std())\n",
    "        y_std = int(np.array(features_y[index]).std())\n",
    "\n",
    "        xmin = xmin - x_std\n",
    "        ymin = ymin - y_std\n",
    "        xmax = xmax + x_std\n",
    "        ymax = ymax + y_std\n",
    "\n",
    "        if xmin <= 0:\n",
    "            xmin = 0\n",
    "        if ymin <= 0:\n",
    "            ymin = 0        \n",
    "        if xmax >= w:\n",
    "            xmax = w\n",
    "        if ymax >= h:\n",
    "            ymax = h\n",
    "            \n",
    "            \n",
    "        #assert xmax>=xmin\n",
    "        #assert ymax>=ymin\n",
    "    \n",
    "    #     print(\"index: \", index)    \n",
    "    #     print(\"xmin: \", xmin)\n",
    "    #     print(\"ymin: \", ymin)\n",
    "    #     print(\"xmax: \", xmax)\n",
    "    #     print(\"ymax: \", ymax)\n",
    "    #     print(\"---\")\n",
    "    \n",
    "        bbox.append([xmin, ymin, xmax, ymax])\n",
    "    #     # draw landmark\n",
    "#     for tup in int_features[index]:\n",
    "#         if tup[0] == -1:\n",
    "#             pass\n",
    "#         cv2.circle(img, tup, 4, (0,0,255), -1)\n",
    "    \n",
    "#     # draw bbox\n",
    "#     cv2.rectangle(img, (xmin, ymin), (xmax, ymax), (0,255,0), 3 )\n",
    "#     save_path = \"./dataset/20200902_day_shadow_01_Class 1. 정상주행/frame/0_20200902_day_shadow_01/output/\"+ os.path.basename(item) +\".jpg\"\n",
    "#     cv2.imwrite(save_path, img)"
   ]
  },
  {
   "cell_type": "code",
   "execution_count": 20,
   "metadata": {},
   "outputs": [
    {
     "data": {
      "text/plain": [
       "10599"
      ]
     },
     "execution_count": 20,
     "metadata": {},
     "output_type": "execute_result"
    }
   ],
   "source": [
    "len(bbox)"
   ]
  },
  {
   "cell_type": "code",
   "execution_count": 21,
   "metadata": {},
   "outputs": [],
   "source": [
    "filename = filename[1:]\n"
   ]
  },
  {
   "cell_type": "code",
   "execution_count": 22,
   "metadata": {},
   "outputs": [
    {
     "data": {
      "text/plain": [
       "10599"
      ]
     },
     "execution_count": 22,
     "metadata": {},
     "output_type": "execute_result"
    }
   ],
   "source": [
    "len(filename)"
   ]
  },
  {
   "cell_type": "code",
   "execution_count": 23,
   "metadata": {
    "scrolled": false
   },
   "outputs": [
    {
     "data": {
      "text/plain": [
       "10599"
      ]
     },
     "execution_count": 23,
     "metadata": {},
     "output_type": "execute_result"
    }
   ],
   "source": [
    "len(features_x)"
   ]
  },
  {
   "cell_type": "code",
   "execution_count": 24,
   "metadata": {
    "scrolled": true
   },
   "outputs": [
    {
     "data": {
      "text/plain": [
       "10599"
      ]
     },
     "execution_count": 24,
     "metadata": {},
     "output_type": "execute_result"
    }
   ],
   "source": [
    "len(features_ps)"
   ]
  },
  {
   "cell_type": "code",
   "execution_count": 25,
   "metadata": {
    "scrolled": true
   },
   "outputs": [
    {
     "data": {
      "text/plain": [
       "10599"
      ]
     },
     "execution_count": 25,
     "metadata": {},
     "output_type": "execute_result"
    }
   ],
   "source": [
    "len(features_y)"
   ]
  },
  {
   "cell_type": "code",
   "execution_count": 26,
   "metadata": {},
   "outputs": [
    {
     "data": {
      "text/plain": [
       "10599"
      ]
     },
     "execution_count": 26,
     "metadata": {},
     "output_type": "execute_result"
    }
   ],
   "source": [
    "len(features)"
   ]
  },
  {
   "cell_type": "code",
   "execution_count": 27,
   "metadata": {},
   "outputs": [
    {
     "name": "stdout",
     "output_type": "stream",
     "text": [
      "[skipped - b/c neg] i:  2299\n",
      "[skipped - b/c neg] i:  2300\n",
      "[skipped - b/c neg] i:  2302\n",
      "[skipped - b/c neg] i:  2303\n",
      "[skipped - b/c zero] i:  2590\n",
      "[skipped - b/c neg] i:  2608\n",
      "[skipped - b/c zero] i:  8116\n"
     ]
    }
   ],
   "source": [
    "mode=\"train\"\n",
    "\n",
    "f = open(\"dataset/train_valid_infiniq.txt\", \"w\")\n",
    "for i in range(len(features)):\n",
    "    xmin, ymin, xmax, ymax = bbox[i]\n",
    "    \n",
    "    x = xmin\n",
    "    y = ymin\n",
    "    w = xmax - xmin\n",
    "    h = ymax - ymin\n",
    "\n",
    "    if xmin==0 and ymin==0 and xmax ==0 and ymax ==0:\n",
    "        print(\"[skipped - b/c zero] i: \", i)\n",
    "        continue\n",
    "    if x < 0 or y < 0 or w < 0 or h < 0:\n",
    "        print(\"[skipped - b/c neg] i: \", i)\n",
    "        continue\n",
    "    \n",
    "    f.write(\"# \"+filename[i]+\"\\n\")\n",
    "    \n",
    "    #print(\"i: \", i)\n",
    "    assert x >= 0\n",
    "    assert y >= 0\n",
    "    assert w >= 0\n",
    "    assert h >= 0\n",
    "    \n",
    "    b = \" \".join([str(x),str(y),str(w),str(h)])\n",
    "    \n",
    "    temp = [features[i][inner_i] +\" \" +features[i][inner_i+1] for inner_i in range(0, len(features[0])-1, 2)]\n",
    "    ft = \" 0 \".join(temp)\n",
    "    \n",
    "    \n",
    "    if mode==\"train\": f.write(b + \" \" + ft + \" 0 1\"+ \"\\n\")\n",
    "    if mode==\"valid\": f.write(b + \"\\n\")\n",
    "    \n",
    "f.close()"
   ]
  },
  {
   "cell_type": "code",
   "execution_count": null,
   "metadata": {},
   "outputs": [],
   "source": []
  }
 ],
 "metadata": {
  "kernelspec": {
   "display_name": "tf2",
   "language": "python",
   "name": "tf2"
  },
  "language_info": {
   "codemirror_mode": {
    "name": "ipython",
    "version": 3
   },
   "file_extension": ".py",
   "mimetype": "text/x-python",
   "name": "python",
   "nbconvert_exporter": "python",
   "pygments_lexer": "ipython3",
   "version": "3.7.7"
  }
 },
 "nbformat": 4,
 "nbformat_minor": 4
}
